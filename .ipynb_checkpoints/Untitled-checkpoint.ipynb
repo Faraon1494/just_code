{
 "cells": [
  {
   "cell_type": "code",
   "execution_count": 5,
   "id": "199f2cd4-2d70-4ad6-b853-bb31ac6f026b",
   "metadata": {},
   "outputs": [],
   "source": [
    "import math\n",
    "def begin2(S):\n",
    "    S = math.pow(a,2)\n",
    "    return S"
   ]
  },
  {
   "cell_type": "code",
   "execution_count": 8,
   "id": "6364838c-c471-4d09-8586-3c251a5779b7",
   "metadata": {},
   "outputs": [
    {
     "name": "stdin",
     "output_type": "stream",
     "text": [
      " 5\n"
     ]
    }
   ],
   "source": [
    "a=int(input())"
   ]
  },
  {
   "cell_type": "code",
   "execution_count": 9,
   "id": "76b1e68a-9300-481f-982b-375712a6680e",
   "metadata": {},
   "outputs": [
    {
     "name": "stdout",
     "output_type": "stream",
     "text": [
      "25.0\n"
     ]
    }
   ],
   "source": [
    "print(begin2(a))"
   ]
  },
  {
   "cell_type": "code",
   "execution_count": null,
   "id": "107043e0-d091-442f-a777-0c88ad6cd679",
   "metadata": {},
   "outputs": [],
   "source": [
    "def begin3(S,P):\n",
    "    S = a*b\n",
    "    P = 2*(a+b)\n",
    "    return S,P"
   ]
  },
  {
   "cell_type": "code",
   "execution_count": null,
   "id": "db6970ab-6267-4da6-ae84-528b946347c4",
   "metadata": {},
   "outputs": [],
   "source": [
    "a=int(input())\n",
    "b=int(input())"
   ]
  },
  {
   "cell_type": "code",
   "execution_count": null,
   "id": "e455ae00-2dfa-4ad2-973b-9a8068fd26df",
   "metadata": {},
   "outputs": [],
   "source": [
    "print(begin2(a,b))"
   ]
  }
 ],
 "metadata": {
  "kernelspec": {
   "display_name": "Python 3 (ipykernel)",
   "language": "python",
   "name": "python3"
  },
  "language_info": {
   "codemirror_mode": {
    "name": "ipython",
    "version": 3
   },
   "file_extension": ".py",
   "mimetype": "text/x-python",
   "name": "python",
   "nbconvert_exporter": "python",
   "pygments_lexer": "ipython3",
   "version": "3.11.4"
  }
 },
 "nbformat": 4,
 "nbformat_minor": 5
}
